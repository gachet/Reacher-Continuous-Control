{
 "cells": [
  {
   "cell_type": "markdown",
   "metadata": {},
   "source": [
    "# Continuous Control\n",
    "\n",
    "---\n",
    "\n",
    "You are welcome to use this coding environment to train your agent for the project.  Follow the instructions below to get started!\n",
    "\n",
    "### 1. Start the Environment\n",
    "\n",
    "Run the next code cell to install a few packages.  This line will take a few minutes to run!"
   ]
  },
  {
   "cell_type": "code",
   "execution_count": 1,
   "metadata": {},
   "outputs": [
    {
     "name": "stdout",
     "output_type": "stream",
     "text": [
      "\u001b[31mtensorflow 1.7.1 has requirement numpy>=1.13.3, but you'll have numpy 1.12.1 which is incompatible.\u001b[0m\r\n",
      "\u001b[31mipython 6.5.0 has requirement prompt-toolkit<2.0.0,>=1.0.15, but you'll have prompt-toolkit 2.0.10 which is incompatible.\u001b[0m\r\n"
     ]
    }
   ],
   "source": [
    "!pip -q install ./python"
   ]
  },
  {
   "cell_type": "markdown",
   "metadata": {},
   "source": [
    "The environments corresponding to both versions of the environment are already saved in the Workspace and can be accessed at the file paths provided below.  \n",
    "\n",
    "Please select one of the two options below for loading the environment."
   ]
  },
  {
   "cell_type": "code",
   "execution_count": null,
   "metadata": {},
   "outputs": [],
   "source": [
    "from unityagents import UnityEnvironment\n",
    "import numpy as np\n",
    "\n",
    "# select this option to load version 1 (with a single agent) of the environment\n",
    "# env = UnityEnvironment(file_name='/data/Reacher_One_Linux_NoVis/Reacher_One_Linux_NoVis.x86_64')\n",
    "\n",
    "# select this option to load version 2 (with 20 agents) of the environment\n",
    "env = UnityEnvironment(file_name='/data/Reacher_Linux_NoVis/Reacher.x86_64')"
   ]
  },
  {
   "cell_type": "markdown",
   "metadata": {},
   "source": [
    "Environments contain **_brains_** which are responsible for deciding the actions of their associated agents. Here we check for the first brain available, and set it as the default brain we will be controlling from Python."
   ]
  },
  {
   "cell_type": "code",
   "execution_count": 3,
   "metadata": {},
   "outputs": [],
   "source": [
    "# get the default brain\n",
    "brain_name = env.brain_names[0]\n",
    "brain = env.brains[brain_name]"
   ]
  },
  {
   "cell_type": "markdown",
   "metadata": {},
   "source": [
    "### 2. Examine the State and Action Spaces\n",
    "\n",
    "Run the code cell below to print some information about the environment."
   ]
  },
  {
   "cell_type": "code",
   "execution_count": null,
   "metadata": {},
   "outputs": [],
   "source": [
    "# reset the environment\n",
    "env_info = env.reset(train_mode=True)[brain_name]\n",
    "\n",
    "# number of agents\n",
    "num_agents = len(env_info.agents)\n",
    "print('Number of agents:', num_agents)\n",
    "\n",
    "# size of each action\n",
    "action_size = brain.vector_action_space_size\n",
    "print('Size of each action:', action_size)\n",
    "\n",
    "# examine the state space \n",
    "states = env_info.vector_observations\n",
    "state_size = states.shape[1]\n",
    "print('There are {} agents. Each observes a state with length: {}'.format(states.shape[0], state_size))\n",
    "print('The state for the first agent looks like:', states[0])"
   ]
  },
  {
   "cell_type": "markdown",
   "metadata": {},
   "source": [
    "### 3. Take Random Actions in the Environment\n",
    "\n",
    "In the next code cell, you will learn how to use the Python API to control the agent and receive feedback from the environment.\n",
    "\n",
    "Note that **in this coding environment, you will not be able to watch the agents while they are training**, and you should set `train_mode=True` to restart the environment."
   ]
  },
  {
   "cell_type": "code",
   "execution_count": null,
   "metadata": {},
   "outputs": [],
   "source": [
    "env_info = env.reset(train_mode=True)[brain_name]      # reset the environment    \n",
    "states = env_info.vector_observations                  # get the current state (for each agent)\n",
    "scores = np.zeros(num_agents)                          # initialize the score (for each agent)\n",
    "while True:\n",
    "    actions = np.random.randn(num_agents, action_size) # select an action (for each agent)\n",
    "    actions = np.clip(actions, -1, 1)                  # all actions between -1 and 1\n",
    "    env_info = env.step(actions)[brain_name]           # send all actions to tne environment\n",
    "    next_states = env_info.vector_observations         # get next state (for each agent)\n",
    "    rewards = env_info.rewards                         # get reward (for each agent)\n",
    "    dones = env_info.local_done                        # see if episode finished\n",
    "    scores += env_info.rewards                         # update the score (for each agent)\n",
    "    states = next_states                               # roll over states to next time step\n",
    "    if np.any(dones):                                  # exit loop if episode finished\n",
    "        break\n",
    "print('Total score (averaged over agents) this episode: {}'.format(np.mean(scores)))"
   ]
  },
  {
   "cell_type": "markdown",
   "metadata": {},
   "source": [
    "When finished, you can close the environment."
   ]
  },
  {
   "cell_type": "code",
   "execution_count": null,
   "metadata": {},
   "outputs": [],
   "source": [
    "env.close()"
   ]
  },
  {
   "cell_type": "markdown",
   "metadata": {},
   "source": [
    "### 4. It's Your Turn!\n",
    "\n",
    "Now it's your turn to train your own agent to solve the environment!  A few **important notes**:\n",
    "- When training the environment, set `train_mode=True`, so that the line for resetting the environment looks like the following:\n",
    "```python\n",
    "env_info = env.reset(train_mode=True)[brain_name]\n",
    "```\n",
    "- To structure your work, you're welcome to work directly in this Jupyter notebook, or you might like to start over with a new file!  You can see the list of files in the workspace by clicking on **_Jupyter_** in the top left corner of the notebook.\n",
    "- In this coding environment, you will not be able to watch the agents while they are training.  However, **_after training the agents_**, you can download the saved model weights to watch the agents on your own machine! "
   ]
  },
  {
   "cell_type": "code",
   "execution_count": 2,
   "metadata": {},
   "outputs": [],
   "source": [
    "import numpy as np\n",
    "from unityagents import UnityEnvironment"
   ]
  },
  {
   "cell_type": "code",
   "execution_count": 3,
   "metadata": {},
   "outputs": [],
   "source": [
    "import torch\n",
    "import torch.nn.functional as F\n",
    "from torch.optim import RMSprop, Adam\n",
    "\n",
    "from agent.a2c_agent import A2CAgent\n",
    "from agent.ppo_agent import PPOAgent\n",
    "from agent.config import Config\n",
    "from agent.utils import EnvironmentAdapterForUnity"
   ]
  },
  {
   "cell_type": "code",
   "execution_count": 4,
   "metadata": {},
   "outputs": [
    {
     "name": "stderr",
     "output_type": "stream",
     "text": [
      "INFO:unityagents:\n",
      "'Academy' started successfully!\n",
      "Unity Academy name: Academy\n",
      "        Number of Brains: 1\n",
      "        Number of External Brains : 1\n",
      "        Lesson number : 0\n",
      "        Reset Parameters :\n",
      "\t\tgoal_speed -> 1.0\n",
      "\t\tgoal_size -> 5.0\n",
      "Unity brain name: ReacherBrain\n",
      "        Number of Visual Observations (per agent): 0\n",
      "        Vector Observation space type: continuous\n",
      "        Vector Observation space size (per agent): 33\n",
      "        Number of stacked Vector Observation: 1\n",
      "        Vector Action space type: continuous\n",
      "        Vector Action space size (per agent): 4\n",
      "        Vector Action descriptions: , , , \n"
     ]
    }
   ],
   "source": [
    "env = UnityEnvironment(file_name='/data/Reacher_Linux_NoVis/Reacher.x86_64')\n",
    "brain_name = env.brain_names[0]\n",
    "brain = env.brains[brain_name]\n",
    "env_info = env.reset(train_mode=True)[brain_name]\n",
    "num_agents = len(env_info.agents)\n",
    "action_size = brain.vector_action_space_size\n",
    "states = env_info.vector_observations\n",
    "state_size = states.shape[1]"
   ]
  },
  {
   "cell_type": "code",
   "execution_count": 5,
   "metadata": {},
   "outputs": [],
   "source": [
    "unity_envs = EnvironmentAdapterForUnity(env, brain_name)\n",
    "config = Config()"
   ]
  },
  {
   "cell_type": "code",
   "execution_count": 6,
   "metadata": {},
   "outputs": [],
   "source": [
    "config.seed = 0\n",
    "config.num_agents = num_agents\n",
    "config.envs = unity_envs\n",
    "config.num_episodes = 1000\n",
    "config.steps = 2000\n",
    "config.state_size = state_size\n",
    "config.action_size = action_size\n",
    "config.activ_actor = F.relu\n",
    "config.activ_critic = F.relu\n",
    "# config.optim = Adam\n",
    "config.optim_actor = Adam\n",
    "config.optim_critic = Adam\n",
    "# config.lr = 3e-4\n",
    "config.lr_actor = 3e-4\n",
    "config.lr_critic = 3e-4\n",
    "# config.hidden_units = (64, 64)\n",
    "config.hidden_actor = (512, 512)\n",
    "config.hidden_critic = (512, 512)\n",
    "config.grad_clip_actor = 5\n",
    "config.grad_clip_critic = 5\n",
    "config.gamma = 0.99\n",
    "config.ppo_clip = 0.2\n",
    "config.ppo_epochs = 10\n",
    "config.ppo_batch_size = 32\n",
    "config.ent_weight = 0.01\n",
    "config.val_loss_weight = 1\n",
    "config.use_gae = True\n",
    "config.lamda = 0.95\n",
    "config.env_solved = 30\n",
    "config.times_solved = 1"
   ]
  },
  {
   "cell_type": "code",
   "execution_count": 7,
   "metadata": {},
   "outputs": [],
   "source": [
    "agent = A2CAgent(config)"
   ]
  },
  {
   "cell_type": "code",
   "execution_count": 8,
   "metadata": {},
   "outputs": [
    {
     "name": "stdout",
     "output_type": "stream",
     "text": [
      "A2C Agent:\n",
      "==========\n",
      "\n",
      "Policy Network:\n",
      "---------------\n",
      "Actor(\n",
      "  (layers): ModuleList(\n",
      "    (0): Linear(in_features=33, out_features=512, bias=True)\n",
      "    (1): Linear(in_features=512, out_features=512, bias=True)\n",
      "    (2): Linear(in_features=512, out_features=4, bias=True)\n",
      "  )\n",
      ")\n",
      "\n",
      "Value Network:\n",
      "--------------\n",
      "Critic(\n",
      "  (layers): ModuleList(\n",
      "    (0): Linear(in_features=33, out_features=512, bias=True)\n",
      "    (1): Linear(in_features=512, out_features=512, bias=True)\n",
      "    (2): Linear(in_features=512, out_features=1, bias=True)\n",
      "  )\n",
      ")\n"
     ]
    }
   ],
   "source": [
    "agent.summary()"
   ]
  },
  {
   "cell_type": "code",
   "execution_count": 9,
   "metadata": {},
   "outputs": [
    {
     "name": "stdout",
     "output_type": "stream",
     "text": [
      "Episode 1\tPolicy loss: -0.064\tValue loss: 0.032\tAvg Score: 0.368\n",
      "Best score so far: 0.368\n",
      "Episode 2\tPolicy loss: -0.062\tValue loss: 0.025\tAvg Score: 0.481\n",
      "Best score so far: 0.481\n",
      "Episode 3\tPolicy loss: -0.082\tValue loss: 0.032\tAvg Score: 0.848\n",
      "Best score so far: 0.848\n",
      "Episode 5\tPolicy loss: -0.058\tValue loss: 0.023\tAvg Score: 0.904\n",
      "Best score so far: 0.904\n",
      "Episode 7\tPolicy loss: -0.070\tValue loss: 0.041\tAvg Score: 0.973\n",
      "Best score so far: 0.973\n",
      "Episode 17\tPolicy loss: -0.073\tValue loss: 0.128\tAvg Score: 0.974\n",
      "Best score so far: 0.974\n",
      "Episode 21\tPolicy loss: -0.065\tValue loss: 0.106\tAvg Score: 1.183\n",
      "Best score so far: 1.183\n",
      "Episode 35\tPolicy loss: -0.106\tValue loss: 0.139\tAvg Score: 1.220\n",
      "Best score so far: 1.220\n",
      "Episode 40\tPolicy loss: -0.065\tValue loss: 0.098\tAvg Score: 1.407\n",
      "Best score so far: 1.407\n",
      "Episode 42\tPolicy loss: -0.060\tValue loss: 0.110\tAvg Score: 1.416\n",
      "Best score so far: 1.416\n",
      "Episode 43\tPolicy loss: -0.066\tValue loss: 0.126\tAvg Score: 1.567\n",
      "Best score so far: 1.567\n",
      "Episode 49\tPolicy loss: -0.085\tValue loss: 0.138\tAvg Score: 1.643\n",
      "Best score so far: 1.643\n",
      "Episode 54\tPolicy loss: -0.076\tValue loss: 0.109\tAvg Score: 1.659\n",
      "Best score so far: 1.659\n",
      "Episode 55\tPolicy loss: -0.060\tValue loss: 0.123\tAvg Score: 1.752\n",
      "Best score so far: 1.752\n",
      "Episode 60\tPolicy loss: -0.066\tValue loss: 0.113\tAvg Score: 1.955\n",
      "Best score so far: 1.955\n",
      "Episode 75\tPolicy loss: -0.069\tValue loss: 0.055\tAvg Score: 2.004\n",
      "Best score so far: 2.004\n",
      "Episode 76\tPolicy loss: -0.061\tValue loss: 0.053\tAvg Score: 2.038\n",
      "Best score so far: 2.038\n",
      "Episode 77\tPolicy loss: -0.077\tValue loss: 0.051\tAvg Score: 2.176\n",
      "Best score so far: 2.176\n",
      "Episode 83\tPolicy loss: -0.069\tValue loss: 0.073\tAvg Score: 2.416\n",
      "Best score so far: 2.416\n",
      "Episode 100\tPolicy loss: -0.055\tValue loss: 0.030\tAvg Score: 2.622\n",
      "Best score so far: 2.622\n",
      "Episode 137\tPolicy loss: -0.066\tValue loss: 0.012\tAvg Score: 3.012\n",
      "Best score so far: 3.012\n",
      "Episode 144\tPolicy loss: -0.065\tValue loss: 0.015\tAvg Score: 3.092\n",
      "Best score so far: 3.092\n",
      "Episode 152\tPolicy loss: -0.089\tValue loss: 0.013\tAvg Score: 3.292\n",
      "Best score so far: 3.292\n",
      "Episode 170\tPolicy loss: -0.066\tValue loss: 0.013\tAvg Score: 3.382\n",
      "Best score so far: 3.382\n",
      "Episode 173\tPolicy loss: -0.071\tValue loss: 0.010\tAvg Score: 3.932\n",
      "Best score so far: 3.932\n",
      "Episode 196\tPolicy loss: -0.061\tValue loss: 0.011\tAvg Score: 4.004\n",
      "Best score so far: 4.004\n",
      "Episode 206\tPolicy loss: -0.077\tValue loss: 0.012\tAvg Score: 5.141\n",
      "Best score so far: 5.141\n",
      "Episode 210\tPolicy loss: -0.077\tValue loss: 0.019\tAvg Score: 5.392\n",
      "Best score so far: 5.392\n",
      "Episode 223\tPolicy loss: -0.078\tValue loss: 0.016\tAvg Score: 5.679\n",
      "Best score so far: 5.679\n",
      "Episode 231\tPolicy loss: -0.066\tValue loss: 0.018\tAvg Score: 5.766\n",
      "Best score so far: 5.766\n",
      "Episode 232\tPolicy loss: -0.075\tValue loss: 0.017\tAvg Score: 5.947\n",
      "Best score so far: 5.947\n",
      "Episode 239\tPolicy loss: -0.086\tValue loss: 0.018\tAvg Score: 6.045\n",
      "Best score so far: 6.045\n",
      "Episode 243\tPolicy loss: -0.088\tValue loss: 0.020\tAvg Score: 6.253\n",
      "Best score so far: 6.253\n",
      "Episode 245\tPolicy loss: -0.095\tValue loss: 0.023\tAvg Score: 6.542\n",
      "Best score so far: 6.542\n",
      "Episode 249\tPolicy loss: -0.097\tValue loss: 0.021\tAvg Score: 6.667\n",
      "Best score so far: 6.667\n",
      "Episode 254\tPolicy loss: -0.090\tValue loss: 0.023\tAvg Score: 7.633\n",
      "Best score so far: 7.633\n",
      "Episode 291\tPolicy loss: -0.092\tValue loss: 0.023\tAvg Score: 7.805\n",
      "Best score so far: 7.805\n",
      "Episode 304\tPolicy loss: -0.077\tValue loss: 0.025\tAvg Score: 9.107\n",
      "Best score so far: 9.107\n",
      "Episode 337\tPolicy loss: -0.080\tValue loss: 0.029\tAvg Score: 9.229\n",
      "Best score so far: 9.229\n",
      "Episode 342\tPolicy loss: -0.110\tValue loss: 0.029\tAvg Score: 9.470\n",
      "Best score so far: 9.470\n",
      "Episode 345\tPolicy loss: -0.084\tValue loss: 0.030\tAvg Score: 10.404\n",
      "Best score so far: 10.404\n",
      "Episode 374\tPolicy loss: -0.095\tValue loss: 0.036\tAvg Score: 10.862\n",
      "Best score so far: 10.862\n",
      "Episode 378\tPolicy loss: -0.104\tValue loss: 0.036\tAvg Score: 10.886\n",
      "Best score so far: 10.886\n",
      "Episode 379\tPolicy loss: -0.099\tValue loss: 0.033\tAvg Score: 10.938\n",
      "Best score so far: 10.938\n",
      "Episode 380\tPolicy loss: -0.097\tValue loss: 0.034\tAvg Score: 11.120\n",
      "Best score so far: 11.120\n",
      "Episode 382\tPolicy loss: -0.116\tValue loss: 0.037\tAvg Score: 12.116\n",
      "Best score so far: 12.116\n",
      "Episode 389\tPolicy loss: -0.103\tValue loss: 0.047\tAvg Score: 12.586\n",
      "Best score so far: 12.586\n",
      "Episode 394\tPolicy loss: -0.103\tValue loss: 0.045\tAvg Score: 12.887\n",
      "Best score so far: 12.887\n",
      "Episode 396\tPolicy loss: -0.097\tValue loss: 0.046\tAvg Score: 13.319\n",
      "Best score so far: 13.319\n",
      "Episode 417\tPolicy loss: -0.101\tValue loss: 0.059\tAvg Score: 13.358\n",
      "Best score so far: 13.358\n",
      "Episode 418\tPolicy loss: -0.096\tValue loss: 0.054\tAvg Score: 13.453\n",
      "Best score so far: 13.453\n",
      "Episode 422\tPolicy loss: -0.108\tValue loss: 0.049\tAvg Score: 13.667\n",
      "Best score so far: 13.667\n",
      "Episode 428\tPolicy loss: -0.102\tValue loss: 0.051\tAvg Score: 13.858\n",
      "Best score so far: 13.858\n",
      "Episode 431\tPolicy loss: -0.113\tValue loss: 0.060\tAvg Score: 14.238\n",
      "Best score so far: 14.238\n",
      "Episode 432\tPolicy loss: -0.102\tValue loss: 0.058\tAvg Score: 14.368\n",
      "Best score so far: 14.368\n",
      "Episode 434\tPolicy loss: -0.106\tValue loss: 0.059\tAvg Score: 14.469\n",
      "Best score so far: 14.469\n",
      "Episode 436\tPolicy loss: -0.112\tValue loss: 0.060\tAvg Score: 15.146\n",
      "Best score so far: 15.146\n",
      "Episode 440\tPolicy loss: -0.082\tValue loss: 0.063\tAvg Score: 15.697\n",
      "Best score so far: 15.697\n",
      "Episode 441\tPolicy loss: -0.110\tValue loss: 0.059\tAvg Score: 16.371\n",
      "Best score so far: 16.371\n",
      "Episode 442\tPolicy loss: -0.105\tValue loss: 0.058\tAvg Score: 16.635\n",
      "Best score so far: 16.635\n",
      "Episode 446\tPolicy loss: -0.112\tValue loss: 0.069\tAvg Score: 17.222\n",
      "Best score so far: 17.222\n",
      "Episode 450\tPolicy loss: -0.090\tValue loss: 0.078\tAvg Score: 17.835\n",
      "Best score so far: 17.835\n",
      "Episode 451\tPolicy loss: -0.110\tValue loss: 0.079\tAvg Score: 17.840\n",
      "Best score so far: 17.840\n",
      "Episode 454\tPolicy loss: -0.107\tValue loss: 0.063\tAvg Score: 17.875\n",
      "Best score so far: 17.875\n",
      "Episode 459\tPolicy loss: -0.118\tValue loss: 0.065\tAvg Score: 17.884\n",
      "Best score so far: 17.884\n",
      "Episode 463\tPolicy loss: -0.117\tValue loss: 0.075\tAvg Score: 18.160\n",
      "Best score so far: 18.160\n",
      "Episode 467\tPolicy loss: -0.115\tValue loss: 0.074\tAvg Score: 18.314\n",
      "Best score so far: 18.314\n",
      "Episode 469\tPolicy loss: -0.121\tValue loss: 0.065\tAvg Score: 18.476\n",
      "Best score so far: 18.476\n",
      "Episode 470\tPolicy loss: -0.119\tValue loss: 0.070\tAvg Score: 19.440\n",
      "Best score so far: 19.440\n",
      "Episode 480\tPolicy loss: -0.110\tValue loss: 0.081\tAvg Score: 19.654\n",
      "Best score so far: 19.654\n",
      "Episode 488\tPolicy loss: -0.103\tValue loss: 0.077\tAvg Score: 19.884\n",
      "Best score so far: 19.884\n",
      "Episode 490\tPolicy loss: -0.118\tValue loss: 0.077\tAvg Score: 21.372\n",
      "Best score so far: 21.372\n",
      "Episode 493\tPolicy loss: -0.105\tValue loss: 0.082\tAvg Score: 21.451\n",
      "Best score so far: 21.451\n",
      "Episode 497\tPolicy loss: -0.083\tValue loss: 0.089\tAvg Score: 22.406\n",
      "Best score so far: 22.406\n",
      "Episode 501\tPolicy loss: -0.117\tValue loss: 0.090\tAvg Score: 22.625\n",
      "Best score so far: 22.625\n",
      "Episode 502\tPolicy loss: -0.106\tValue loss: 0.092\tAvg Score: 23.351\n",
      "Best score so far: 23.351\n",
      "Episode 511\tPolicy loss: -0.126\tValue loss: 0.089\tAvg Score: 23.458\n",
      "Best score so far: 23.458\n",
      "Episode 512\tPolicy loss: -0.120\tValue loss: 0.088\tAvg Score: 23.970\n",
      "Best score so far: 23.970\n",
      "Episode 521\tPolicy loss: -0.115\tValue loss: 0.096\tAvg Score: 24.333\n",
      "Best score so far: 24.333\n",
      "Episode 524\tPolicy loss: -0.124\tValue loss: 0.100\tAvg Score: 24.647\n",
      "Best score so far: 24.647\n",
      "Episode 535\tPolicy loss: -0.116\tValue loss: 0.109\tAvg Score: 24.683\n",
      "Best score so far: 24.683\n",
      "Episode 540\tPolicy loss: -0.100\tValue loss: 0.098\tAvg Score: 26.158\n",
      "Best score so far: 26.158\n",
      "Episode 545\tPolicy loss: -0.127\tValue loss: 0.109\tAvg Score: 26.949\n",
      "Best score so far: 26.949\n",
      "Episode 553\tPolicy loss: -0.113\tValue loss: 0.101\tAvg Score: 27.371\n",
      "Best score so far: 27.371\n",
      "Episode 576\tPolicy loss: -0.126\tValue loss: 0.101\tAvg Score: 27.561\n",
      "Best score so far: 27.561\n",
      "Episode 582\tPolicy loss: -0.112\tValue loss: 0.107\tAvg Score: 28.606\n",
      "Best score so far: 28.606\n",
      "Episode 608\tPolicy loss: -0.123\tValue loss: 0.106\tAvg Score: 29.422\n",
      "Best score so far: 29.422\n",
      "Episode 614\tPolicy loss: -0.135\tValue loss: 0.107\tAvg Score: 30.565\n",
      "Best score so far: 30.565\n",
      "\n",
      "Environment solved!\n"
     ]
    }
   ],
   "source": [
    "score = agent.train()"
   ]
  },
  {
   "cell_type": "code",
   "execution_count": 11,
   "metadata": {},
   "outputs": [],
   "source": [
    "np.save('a2c_scores.npy', score)"
   ]
  },
  {
   "cell_type": "code",
   "execution_count": 7,
   "metadata": {},
   "outputs": [],
   "source": [
    "agent = PPOAgent(config)"
   ]
  },
  {
   "cell_type": "code",
   "execution_count": 9,
   "metadata": {},
   "outputs": [
    {
     "name": "stdout",
     "output_type": "stream",
     "text": [
      "PPO Agent:\n",
      "==========\n",
      "\n",
      "Policy Network:\n",
      "---------------\n",
      "Actor(\n",
      "  (layers): ModuleList(\n",
      "    (0): Linear(in_features=33, out_features=512, bias=True)\n",
      "    (1): Linear(in_features=512, out_features=512, bias=True)\n",
      "    (2): Linear(in_features=512, out_features=4, bias=True)\n",
      "  )\n",
      ")\n",
      "\n",
      "Value Network:\n",
      "--------------\n",
      "Critic(\n",
      "  (layers): ModuleList(\n",
      "    (0): Linear(in_features=33, out_features=512, bias=True)\n",
      "    (1): Linear(in_features=512, out_features=512, bias=True)\n",
      "    (2): Linear(in_features=512, out_features=1, bias=True)\n",
      "  )\n",
      ")\n"
     ]
    }
   ],
   "source": [
    "agent.summary()"
   ]
  },
  {
   "cell_type": "code",
   "execution_count": 10,
   "metadata": {},
   "outputs": [
    {
     "name": "stdout",
     "output_type": "stream",
     "text": [
      "Episode 1\tPolicy loss: -0.004\tValue loss: 0.003\tAvg Score: 0.124\n",
      "Best score so far: 0.124\n",
      "Episode 2\tPolicy loss: 0.081\tValue loss: 0.000\tAvg Score: 0.213\n",
      "Best score so far: 0.213\n",
      "Episode 3\tPolicy loss: -0.304\tValue loss: 0.000\tAvg Score: 0.457\n",
      "Best score so far: 0.457\n",
      "Episode 7\tPolicy loss: 0.161\tValue loss: 0.001\tAvg Score: 0.9699\n",
      "Best score so far: 0.969\n",
      "Episode 8\tPolicy loss: -0.188\tValue loss: 0.001\tAvg Score: 1.040\n",
      "Best score so far: 1.040\n",
      "Episode 10\tPolicy loss: -0.130\tValue loss: 0.002\tAvg Score: 1.049\n",
      "Best score so far: 1.049\n",
      "Episode 11\tPolicy loss: 0.250\tValue loss: 0.001\tAvg Score: 1.207\n",
      "Best score so far: 1.207\n",
      "Episode 12\tPolicy loss: -0.021\tValue loss: 0.002\tAvg Score: 1.527\n",
      "Best score so far: 1.527\n",
      "Episode 13\tPolicy loss: -0.060\tValue loss: 0.003\tAvg Score: 1.635\n",
      "Best score so far: 1.635\n",
      "Episode 14\tPolicy loss: 0.310\tValue loss: 0.002\tAvg Score: 2.221\n",
      "Best score so far: 2.221\n",
      "Episode 16\tPolicy loss: -0.124\tValue loss: 0.002\tAvg Score: 2.485\n",
      "Best score so far: 2.485\n",
      "Episode 18\tPolicy loss: 0.022\tValue loss: 0.002\tAvg Score: 2.571\n",
      "Best score so far: 2.571\n",
      "Episode 19\tPolicy loss: 0.149\tValue loss: 0.005\tAvg Score: 2.910\n",
      "Best score so far: 2.910\n",
      "Episode 20\tPolicy loss: -0.125\tValue loss: 0.002\tAvg Score: 3.483\n",
      "Best score so far: 3.483\n",
      "Episode 23\tPolicy loss: 0.096\tValue loss: 0.004\tAvg Score: 4.0021\n",
      "Best score so far: 4.002\n",
      "Episode 26\tPolicy loss: -0.083\tValue loss: 0.014\tAvg Score: 4.195\n",
      "Best score so far: 4.195\n",
      "Episode 27\tPolicy loss: -0.179\tValue loss: 0.004\tAvg Score: 4.650\n",
      "Best score so far: 4.650\n",
      "Episode 28\tPolicy loss: 0.035\tValue loss: 0.003\tAvg Score: 5.079\n",
      "Best score so far: 5.079\n",
      "Episode 31\tPolicy loss: 0.051\tValue loss: 0.004\tAvg Score: 5.3466\n",
      "Best score so far: 5.346\n",
      "Episode 33\tPolicy loss: -0.131\tValue loss: 0.008\tAvg Score: 5.352\n",
      "Best score so far: 5.352\n",
      "Episode 34\tPolicy loss: 0.014\tValue loss: 0.003\tAvg Score: 5.648\n",
      "Best score so far: 5.648\n",
      "Episode 36\tPolicy loss: 0.424\tValue loss: 0.021\tAvg Score: 5.9283\n",
      "Best score so far: 5.928\n",
      "Episode 37\tPolicy loss: 0.123\tValue loss: 0.007\tAvg Score: 6.216\n",
      "Best score so far: 6.216\n",
      "Episode 38\tPolicy loss: -0.373\tValue loss: 0.017\tAvg Score: 7.136\n",
      "Best score so far: 7.136\n",
      "Episode 40\tPolicy loss: -0.340\tValue loss: 0.011\tAvg Score: 8.599\n",
      "Best score so far: 8.599\n",
      "Episode 44\tPolicy loss: -0.002\tValue loss: 0.013\tAvg Score: 9.159\n",
      "Best score so far: 9.159\n",
      "Episode 45\tPolicy loss: -0.064\tValue loss: 0.008\tAvg Score: 10.815\n",
      "Best score so far: 10.815\n",
      "Episode 49\tPolicy loss: 0.171\tValue loss: 0.014\tAvg Score: 11.2216\n",
      "Best score so far: 11.221\n",
      "Episode 52\tPolicy loss: -0.068\tValue loss: 0.019\tAvg Score: 12.136\n",
      "Best score so far: 12.136\n",
      "Episode 53\tPolicy loss: 0.046\tValue loss: 0.024\tAvg Score: 12.217\n",
      "Best score so far: 12.217\n",
      "Episode 55\tPolicy loss: -0.065\tValue loss: 0.033\tAvg Score: 12.432\n",
      "Best score so far: 12.432\n",
      "Episode 56\tPolicy loss: -0.271\tValue loss: 0.020\tAvg Score: 13.247\n",
      "Best score so far: 13.247\n",
      "Episode 57\tPolicy loss: -0.168\tValue loss: 0.020\tAvg Score: 13.530\n",
      "Best score so far: 13.530\n",
      "Episode 59\tPolicy loss: 0.075\tValue loss: 0.017\tAvg Score: 14.633\n",
      "Best score so far: 14.633\n",
      "Episode 63\tPolicy loss: -0.074\tValue loss: 0.037\tAvg Score: 14.749\n",
      "Best score so far: 14.749\n",
      "Episode 65\tPolicy loss: 0.254\tValue loss: 0.030\tAvg Score: 16.219\n",
      "Best score so far: 16.219\n",
      "Episode 69\tPolicy loss: -0.385\tValue loss: 0.038\tAvg Score: 17.085\n",
      "Best score so far: 17.085\n",
      "Episode 70\tPolicy loss: 0.042\tValue loss: 0.040\tAvg Score: 17.962\n",
      "Best score so far: 17.962\n",
      "Episode 71\tPolicy loss: 0.067\tValue loss: 0.040\tAvg Score: 18.853\n",
      "Best score so far: 18.853\n",
      "Episode 72\tPolicy loss: -0.032\tValue loss: 0.030\tAvg Score: 19.595\n",
      "Best score so far: 19.595\n",
      "Episode 75\tPolicy loss: -0.139\tValue loss: 0.035\tAvg Score: 20.309\n",
      "Best score so far: 20.309\n",
      "Episode 76\tPolicy loss: -0.190\tValue loss: 0.026\tAvg Score: 20.929\n",
      "Best score so far: 20.929\n",
      "Episode 80\tPolicy loss: -0.089\tValue loss: 0.048\tAvg Score: 21.974\n",
      "Best score so far: 21.974\n",
      "Episode 82\tPolicy loss: 0.119\tValue loss: 0.058\tAvg Score: 22.161\n",
      "Best score so far: 22.161\n",
      "Episode 84\tPolicy loss: 0.059\tValue loss: 0.040\tAvg Score: 23.450\n",
      "Best score so far: 23.450\n",
      "Episode 85\tPolicy loss: 0.889\tValue loss: 0.204\tAvg Score: 25.277\n",
      "Best score so far: 25.277\n",
      "Episode 88\tPolicy loss: -0.223\tValue loss: 0.041\tAvg Score: 26.735\n",
      "Best score so far: 26.735\n",
      "Episode 94\tPolicy loss: -0.146\tValue loss: 0.023\tAvg Score: 28.704\n",
      "Best score so far: 28.704\n",
      "Episode 100\tPolicy loss: -0.079\tValue loss: 0.037\tAvg Score: 29.067\n",
      "Best score so far: 29.067\n",
      "Episode 101\tPolicy loss: 0.541\tValue loss: 0.164\tAvg Score: 29.358\n",
      "Best score so far: 29.358\n",
      "Episode 102\tPolicy loss: 0.063\tValue loss: 0.068\tAvg Score: 29.703\n",
      "Best score so far: 29.703\n",
      "Episode 103\tPolicy loss: -0.375\tValue loss: 0.020\tAvg Score: 31.587\n",
      "Best score so far: 31.587\n",
      "\n",
      "Environment solved!\n"
     ]
    }
   ],
   "source": [
    "score = agent.train()"
   ]
  },
  {
   "cell_type": "code",
   "execution_count": 11,
   "metadata": {},
   "outputs": [],
   "source": [
    "np.save('ppo_scores.npy', score)"
   ]
  },
  {
   "cell_type": "code",
   "execution_count": null,
   "metadata": {},
   "outputs": [],
   "source": []
  }
 ],
 "metadata": {
  "kernelspec": {
   "display_name": "Python 3",
   "language": "python",
   "name": "python3"
  },
  "language_info": {
   "codemirror_mode": {
    "name": "ipython",
    "version": 3
   },
   "file_extension": ".py",
   "mimetype": "text/x-python",
   "name": "python",
   "nbconvert_exporter": "python",
   "pygments_lexer": "ipython3",
   "version": "3.6.3"
  }
 },
 "nbformat": 4,
 "nbformat_minor": 2
}
